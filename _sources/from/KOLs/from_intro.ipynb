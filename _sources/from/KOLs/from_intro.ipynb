{
 "cells": [
  {
   "cell_type": "markdown",
   "id": "9e26ae7a",
   "metadata": {},
   "source": [
    "# From Introduction\n",
    "\n",
    "Tweets with `from:` in the topic are scraped from specific twitter handles  \n",
    "\n",
    "(generally from these two resources \n",
    "[Competitor Sheet](https://docs.google.com/spreadsheets/d/1dYsQbJKBcrf3LltRz0eUFYs5MX37wvIoznvS7oVKNXg/edit#gid=0)  or \n",
    "[KOL Sheet](https://docs.google.com/spreadsheets/d/1DtQI4ASQXORwbrIb1uXKjzIaPeQ2y7NgxtwztabpR3M/edit#gid=0))"
   ]
  },
  {
   "cell_type": "code",
   "execution_count": null,
   "id": "5c1ebfac",
   "metadata": {},
   "outputs": [],
   "source": []
  }
 ],
 "metadata": {
  "kernelspec": {
   "display_name": "Python 3 (ipykernel)",
   "language": "python",
   "name": "python3"
  },
  "language_info": {
   "codemirror_mode": {
    "name": "ipython",
    "version": 3
   },
   "file_extension": ".py",
   "mimetype": "text/x-python",
   "name": "python",
   "nbconvert_exporter": "python",
   "pygments_lexer": "ipython3",
   "version": "3.9.7"
  }
 },
 "nbformat": 4,
 "nbformat_minor": 5
}
